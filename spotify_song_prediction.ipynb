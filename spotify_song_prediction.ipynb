{
 "cells": [
  {
   "cell_type": "code",
   "execution_count": 1,
   "metadata": {},
   "outputs": [],
   "source": [
    "from bs4 import BeautifulSoup\n",
    "import requests\n",
    "import pandas as pd\n",
    "import re\n",
    "import numpy as np \n",
    "from random import randrange"
   ]
  },
  {
   "cell_type": "markdown",
   "metadata": {},
   "source": [
    "# Get user input"
   ]
  },
  {
   "cell_type": "code",
   "execution_count": 2,
   "metadata": {},
   "outputs": [],
   "source": [
    "# function\n",
    "def get_user_input():\n",
    "    user_input = input('Enter song name').lower()\n",
    "    \n",
    "    return user_input"
   ]
  },
  {
   "cell_type": "markdown",
   "metadata": {},
   "source": [
    "# Get top songs"
   ]
  },
  {
   "cell_type": "code",
   "execution_count": 3,
   "metadata": {},
   "outputs": [],
   "source": [
    "# web scrapping\n",
    "\n",
    "def get_top_songs():\n",
    "    song_titles = []\n",
    "    song_artists = []\n",
    "    \n",
    "    url = 'https://www.billboard.com/charts/hot-100'\n",
    "    response = requests.get(url)\n",
    "    response.status_code\n",
    "    \n",
    "    soup = BeautifulSoup(response.content, \"html.parser\")\n",
    "    soup2 = soup.select('ol')\n",
    "    # soup2 = soup.find_all('ol', {'class':'chart-list__elements'})\n",
    "\n",
    "    for i in soup2[0].select('span.chart-element__information__song.text--truncate.color--primary'):\n",
    "        song_titles.append(i.get_text().lower())\n",
    "#     print(song_titles)\n",
    "\n",
    "    for j in soup2[0].select('span.chart-element__information__artist.text--truncate.color--secondary'):\n",
    "        song_artists.append(j.get_text().lower())   \n",
    "    \n",
    "    df_top_songs = pd.DataFrame({\n",
    "    \"song_title\": song_titles,\n",
    "    \"song_artist\": song_artists\n",
    "    })\n",
    "    \n",
    "    return df_top_songs"
   ]
  },
  {
   "cell_type": "code",
   "execution_count": 4,
   "metadata": {},
   "outputs": [],
   "source": [
    "# update df for newer \n",
    "# when: only when user inputs or every week - to be decided\n",
    "\n",
    "def update_top_songs(df_top_songs):\n",
    "    \n",
    "    song_titles = []\n",
    "    song_artists = []\n",
    "    \n",
    "    url = 'https://www.billboard.com/charts/hot-100'\n",
    "    response = requests.get(url)\n",
    "    response.status_code\n",
    "    \n",
    "    soup = BeautifulSoup(response.content, \"html.parser\")\n",
    "    soup2 = soup.select('ol')\n",
    "\n",
    "    for i in soup2[0].select('span.chart-element__information__song.text--truncate.color--primary'):\n",
    "        song_titles.append(i.get_text().lower())\n",
    "\n",
    "    for j in soup2[0].select('span.chart-element__information__artist.text--truncate.color--secondary'):\n",
    "        song_artists.append(j.get_text().lower())   \n",
    "    \n",
    "    new_df_top_songs = pd.DataFrame({\n",
    "    \"song_title\": song_titles,\n",
    "    \"song_artist\": song_artists\n",
    "    })    \n",
    "    \n",
    "    return df_top_songs.update(new_df_top_songs)"
   ]
  },
  {
   "cell_type": "code",
   "execution_count": 5,
   "metadata": {},
   "outputs": [],
   "source": [
    "def recommend_another_top_song(df_top_songs, user_input):    \n",
    "#     exclude user selected song\n",
    "    songs_df_exclude_selected = df_top_songs[df_top_songs.song_title != user_input]\n",
    "    \n",
    "    random_song_index = np.random.choice(songs_df_exclude_selected.index,size =1)[0]\n",
    "\n",
    "    return songs_df_exclude_selected.iloc[random_song_index,0], songs_df_exclude_selected.iloc[random_song_index,1]"
   ]
  },
  {
   "cell_type": "code",
   "execution_count": 6,
   "metadata": {},
   "outputs": [],
   "source": [
    "df_top_songs = get_top_songs()"
   ]
  },
  {
   "cell_type": "code",
   "execution_count": 7,
   "metadata": {},
   "outputs": [],
   "source": [
    "# run this every week\n",
    "update_top_songs(df_top_songs)"
   ]
  },
  {
   "cell_type": "markdown",
   "metadata": {},
   "source": [
    "# Part - Get features for songs in top songs"
   ]
  },
  {
   "cell_type": "code",
   "execution_count": 8,
   "metadata": {},
   "outputs": [
    {
     "name": "stdout",
     "output_type": "stream",
     "text": [
      "importing Jupyter notebook from config.ipynb\n"
     ]
    }
   ],
   "source": [
    "import sys\n",
    "import import_ipynb\n",
    "\n",
    "from config import *\n",
    "import spotipy\n",
    "import json\n",
    "from spotipy.oauth2 import SpotifyClientCredentials\n",
    "\n",
    "#Initialize SpotiPy with user credentias\n",
    "sp = spotipy.Spotify(auth_manager=SpotifyClientCredentials(client_id= Client_ID,\n",
    "                                                           client_secret= Client_Secret))\n"
   ]
  },
  {
   "cell_type": "code",
   "execution_count": 9,
   "metadata": {},
   "outputs": [],
   "source": [
    "# we get all the numerical features"
   ]
  },
  {
   "cell_type": "code",
   "execution_count": 10,
   "metadata": {},
   "outputs": [],
   "source": [
    "def get_features(song):\n",
    "    \n",
    "    WAP = sp.search(q=song, limit=1) \n",
    "\n",
    "    WAP[\"tracks\"][\"items\"][0][\"uri\"]\n",
    "\n",
    "    features = sp.audio_features(WAP[\"tracks\"][\"items\"][0][\"uri\"])\n",
    "\n",
    "    selected_features = [\"danceability\", \"energy\",\"key\",\"loudness\",\n",
    "                        'mode', 'speechiness', 'acousticness','instrumentalness',\n",
    "                        'liveness','valence','tempo']\n",
    "    \n",
    "    #     returns a new dictionary    \n",
    "    return {x: features[0][x] for x in selected_features } \n"
   ]
  },
  {
   "cell_type": "code",
   "execution_count": 11,
   "metadata": {},
   "outputs": [],
   "source": [
    "# get features for 100 songs \n",
    "\n",
    "def add_features_to_df(df):\n",
    "    \n",
    "    #     loop through data frame col song_title\n",
    "    songs_features = []\n",
    "    \n",
    "    for i in df['song_title']:\n",
    "        songs_features.append(get_features(i))\n",
    "    \n",
    "    features_df = pd.DataFrame(songs_features)\n",
    "    \n",
    "    #     returns df\n",
    "    return pd.concat([df, features_df], axis = 1)\n",
    "    \n"
   ]
  },
  {
   "cell_type": "code",
   "execution_count": 12,
   "metadata": {},
   "outputs": [],
   "source": [
    "# store features df in a csv\n",
    "\n",
    "def export_to_csv(df_top_songs_features):\n",
    "    df_top_songs_features.to_csv('top_songs_features.csv', index=False)\n",
    "\n"
   ]
  },
  {
   "cell_type": "code",
   "execution_count": 13,
   "metadata": {},
   "outputs": [],
   "source": [
    "df_top_songs_with_features = add_features_to_df(df_top_songs)"
   ]
  },
  {
   "cell_type": "code",
   "execution_count": 14,
   "metadata": {},
   "outputs": [
    {
     "name": "stdout",
     "output_type": "stream",
     "text": [
      "<class 'pandas.core.frame.DataFrame'>\n",
      "RangeIndex: 100 entries, 0 to 99\n",
      "Data columns (total 13 columns):\n",
      " #   Column            Non-Null Count  Dtype  \n",
      "---  ------            --------------  -----  \n",
      " 0   song_title        100 non-null    object \n",
      " 1   song_artist       100 non-null    object \n",
      " 2   danceability      100 non-null    float64\n",
      " 3   energy            100 non-null    float64\n",
      " 4   key               100 non-null    int64  \n",
      " 5   loudness          100 non-null    float64\n",
      " 6   mode              100 non-null    int64  \n",
      " 7   speechiness       100 non-null    float64\n",
      " 8   acousticness      100 non-null    float64\n",
      " 9   instrumentalness  100 non-null    float64\n",
      " 10  liveness          100 non-null    float64\n",
      " 11  valence           100 non-null    float64\n",
      " 12  tempo             100 non-null    float64\n",
      "dtypes: float64(9), int64(2), object(2)\n",
      "memory usage: 10.3+ KB\n"
     ]
    }
   ],
   "source": [
    "# check types of df\n",
    "df_top_songs_with_features.info()"
   ]
  },
  {
   "cell_type": "code",
   "execution_count": 15,
   "metadata": {},
   "outputs": [],
   "source": [
    "export_to_csv(df_top_songs_with_features)"
   ]
  },
  {
   "cell_type": "markdown",
   "metadata": {},
   "source": [
    "# Part - creating clusters for top songs"
   ]
  },
  {
   "cell_type": "code",
   "execution_count": 16,
   "metadata": {},
   "outputs": [],
   "source": [
    "import pandas as pd\n",
    "from sklearn import datasets\n",
    "from sklearn.preprocessing import StandardScaler\n",
    "from sklearn.cluster import KMeans\n",
    "from sklearn.metrics import silhouette_score"
   ]
  },
  {
   "cell_type": "code",
   "execution_count": 17,
   "metadata": {},
   "outputs": [],
   "source": [
    "# Load data\n",
    "X = pd.read_csv('top_songs_features.csv')"
   ]
  },
  {
   "cell_type": "code",
   "execution_count": 18,
   "metadata": {},
   "outputs": [
    {
     "data": {
      "text/html": [
       "<div>\n",
       "<style scoped>\n",
       "    .dataframe tbody tr th:only-of-type {\n",
       "        vertical-align: middle;\n",
       "    }\n",
       "\n",
       "    .dataframe tbody tr th {\n",
       "        vertical-align: top;\n",
       "    }\n",
       "\n",
       "    .dataframe thead th {\n",
       "        text-align: right;\n",
       "    }\n",
       "</style>\n",
       "<table border=\"1\" class=\"dataframe\">\n",
       "  <thead>\n",
       "    <tr style=\"text-align: right;\">\n",
       "      <th></th>\n",
       "      <th>danceability</th>\n",
       "      <th>energy</th>\n",
       "      <th>key</th>\n",
       "      <th>loudness</th>\n",
       "      <th>mode</th>\n",
       "      <th>speechiness</th>\n",
       "      <th>acousticness</th>\n",
       "      <th>instrumentalness</th>\n",
       "      <th>liveness</th>\n",
       "      <th>valence</th>\n",
       "      <th>tempo</th>\n",
       "    </tr>\n",
       "  </thead>\n",
       "  <tbody>\n",
       "    <tr>\n",
       "      <th>0</th>\n",
       "      <td>0.700</td>\n",
       "      <td>0.722</td>\n",
       "      <td>7</td>\n",
       "      <td>-3.558</td>\n",
       "      <td>0</td>\n",
       "      <td>0.0369</td>\n",
       "      <td>0.22100</td>\n",
       "      <td>0.000000</td>\n",
       "      <td>0.2720</td>\n",
       "      <td>0.756</td>\n",
       "      <td>90.989</td>\n",
       "    </tr>\n",
       "    <tr>\n",
       "      <th>1</th>\n",
       "      <td>0.889</td>\n",
       "      <td>0.340</td>\n",
       "      <td>11</td>\n",
       "      <td>-7.773</td>\n",
       "      <td>0</td>\n",
       "      <td>0.0697</td>\n",
       "      <td>0.21800</td>\n",
       "      <td>0.130000</td>\n",
       "      <td>0.0550</td>\n",
       "      <td>0.716</td>\n",
       "      <td>94.009</td>\n",
       "    </tr>\n",
       "    <tr>\n",
       "      <th>2</th>\n",
       "      <td>0.737</td>\n",
       "      <td>0.802</td>\n",
       "      <td>0</td>\n",
       "      <td>-4.771</td>\n",
       "      <td>1</td>\n",
       "      <td>0.0878</td>\n",
       "      <td>0.46800</td>\n",
       "      <td>0.000000</td>\n",
       "      <td>0.0931</td>\n",
       "      <td>0.682</td>\n",
       "      <td>144.015</td>\n",
       "    </tr>\n",
       "    <tr>\n",
       "      <th>3</th>\n",
       "      <td>0.466</td>\n",
       "      <td>0.536</td>\n",
       "      <td>6</td>\n",
       "      <td>-6.227</td>\n",
       "      <td>1</td>\n",
       "      <td>0.0429</td>\n",
       "      <td>0.09510</td>\n",
       "      <td>0.000000</td>\n",
       "      <td>0.1140</td>\n",
       "      <td>0.377</td>\n",
       "      <td>75.998</td>\n",
       "    </tr>\n",
       "    <tr>\n",
       "      <th>4</th>\n",
       "      <td>0.761</td>\n",
       "      <td>0.518</td>\n",
       "      <td>0</td>\n",
       "      <td>-8.871</td>\n",
       "      <td>1</td>\n",
       "      <td>0.1340</td>\n",
       "      <td>0.24400</td>\n",
       "      <td>0.000035</td>\n",
       "      <td>0.1070</td>\n",
       "      <td>0.522</td>\n",
       "      <td>133.976</td>\n",
       "    </tr>\n",
       "    <tr>\n",
       "      <th>...</th>\n",
       "      <td>...</td>\n",
       "      <td>...</td>\n",
       "      <td>...</td>\n",
       "      <td>...</td>\n",
       "      <td>...</td>\n",
       "      <td>...</td>\n",
       "      <td>...</td>\n",
       "      <td>...</td>\n",
       "      <td>...</td>\n",
       "      <td>...</td>\n",
       "      <td>...</td>\n",
       "    </tr>\n",
       "    <tr>\n",
       "      <th>95</th>\n",
       "      <td>0.954</td>\n",
       "      <td>0.696</td>\n",
       "      <td>10</td>\n",
       "      <td>-7.117</td>\n",
       "      <td>0</td>\n",
       "      <td>0.2040</td>\n",
       "      <td>0.00576</td>\n",
       "      <td>0.000498</td>\n",
       "      <td>0.0754</td>\n",
       "      <td>0.432</td>\n",
       "      <td>100.036</td>\n",
       "    </tr>\n",
       "    <tr>\n",
       "      <th>96</th>\n",
       "      <td>0.867</td>\n",
       "      <td>0.517</td>\n",
       "      <td>2</td>\n",
       "      <td>-6.914</td>\n",
       "      <td>1</td>\n",
       "      <td>0.3070</td>\n",
       "      <td>0.01160</td>\n",
       "      <td>0.000000</td>\n",
       "      <td>0.3100</td>\n",
       "      <td>0.271</td>\n",
       "      <td>143.043</td>\n",
       "    </tr>\n",
       "    <tr>\n",
       "      <th>97</th>\n",
       "      <td>0.877</td>\n",
       "      <td>0.607</td>\n",
       "      <td>10</td>\n",
       "      <td>-7.818</td>\n",
       "      <td>0</td>\n",
       "      <td>0.1500</td>\n",
       "      <td>0.53500</td>\n",
       "      <td>0.000000</td>\n",
       "      <td>0.1380</td>\n",
       "      <td>0.773</td>\n",
       "      <td>127.055</td>\n",
       "    </tr>\n",
       "    <tr>\n",
       "      <th>98</th>\n",
       "      <td>0.849</td>\n",
       "      <td>0.536</td>\n",
       "      <td>1</td>\n",
       "      <td>-7.307</td>\n",
       "      <td>1</td>\n",
       "      <td>0.3490</td>\n",
       "      <td>0.02390</td>\n",
       "      <td>0.000000</td>\n",
       "      <td>0.1260</td>\n",
       "      <td>0.308</td>\n",
       "      <td>141.964</td>\n",
       "    </tr>\n",
       "    <tr>\n",
       "      <th>99</th>\n",
       "      <td>0.866</td>\n",
       "      <td>0.720</td>\n",
       "      <td>7</td>\n",
       "      <td>-6.641</td>\n",
       "      <td>0</td>\n",
       "      <td>0.0646</td>\n",
       "      <td>0.11200</td>\n",
       "      <td>0.000000</td>\n",
       "      <td>0.1720</td>\n",
       "      <td>0.785</td>\n",
       "      <td>136.077</td>\n",
       "    </tr>\n",
       "  </tbody>\n",
       "</table>\n",
       "<p>100 rows × 11 columns</p>\n",
       "</div>"
      ],
      "text/plain": [
       "    danceability  energy  key  loudness  mode  speechiness  acousticness  \\\n",
       "0          0.700   0.722    7    -3.558     0       0.0369       0.22100   \n",
       "1          0.889   0.340   11    -7.773     0       0.0697       0.21800   \n",
       "2          0.737   0.802    0    -4.771     1       0.0878       0.46800   \n",
       "3          0.466   0.536    6    -6.227     1       0.0429       0.09510   \n",
       "4          0.761   0.518    0    -8.871     1       0.1340       0.24400   \n",
       "..           ...     ...  ...       ...   ...          ...           ...   \n",
       "95         0.954   0.696   10    -7.117     0       0.2040       0.00576   \n",
       "96         0.867   0.517    2    -6.914     1       0.3070       0.01160   \n",
       "97         0.877   0.607   10    -7.818     0       0.1500       0.53500   \n",
       "98         0.849   0.536    1    -7.307     1       0.3490       0.02390   \n",
       "99         0.866   0.720    7    -6.641     0       0.0646       0.11200   \n",
       "\n",
       "    instrumentalness  liveness  valence    tempo  \n",
       "0           0.000000    0.2720    0.756   90.989  \n",
       "1           0.130000    0.0550    0.716   94.009  \n",
       "2           0.000000    0.0931    0.682  144.015  \n",
       "3           0.000000    0.1140    0.377   75.998  \n",
       "4           0.000035    0.1070    0.522  133.976  \n",
       "..               ...       ...      ...      ...  \n",
       "95          0.000498    0.0754    0.432  100.036  \n",
       "96          0.000000    0.3100    0.271  143.043  \n",
       "97          0.000000    0.1380    0.773  127.055  \n",
       "98          0.000000    0.1260    0.308  141.964  \n",
       "99          0.000000    0.1720    0.785  136.077  \n",
       "\n",
       "[100 rows x 11 columns]"
      ]
     },
     "execution_count": 18,
     "metadata": {},
     "output_type": "execute_result"
    }
   ],
   "source": [
    "X_features = X.drop(['song_title','song_artist'],axis=1)\n",
    "X_features"
   ]
  },
  {
   "cell_type": "code",
   "execution_count": 19,
   "metadata": {},
   "outputs": [],
   "source": [
    "# transform data to same scale\n",
    "# variables to be used throughout\n",
    "\n",
    "scaler = StandardScaler()\n",
    "X_prep = scaler.fit_transform(X_features)\n",
    "\n",
    "X_transformed = pd.DataFrame(X_prep, columns = X_features.columns)"
   ]
  },
  {
   "cell_type": "markdown",
   "metadata": {},
   "source": [
    "## Clustering with K-Means"
   ]
  },
  {
   "cell_type": "code",
   "execution_count": 20,
   "metadata": {},
   "outputs": [],
   "source": [
    "import numpy as np\n",
    "import matplotlib.pyplot as plt\n",
    "%matplotlib inline"
   ]
  },
  {
   "cell_type": "code",
   "execution_count": 21,
   "metadata": {},
   "outputs": [
    {
     "data": {
      "image/png": "[encoded data removed]",
      "text/plain": [
       "<Figure size 1152x576 with 1 Axes>"
      ]
     },
     "metadata": {
      "needs_background": "light"
     },
     "output_type": "display_data"
    }
   ],
   "source": [
    "def check_best_k_value(X_prep):\n",
    "    \n",
    "    K = range(2, 10)\n",
    "    inertia = []\n",
    "\n",
    "    for k in K:\n",
    "        kmeans = KMeans(n_clusters=k,\n",
    "                        random_state=1234)\n",
    "        \n",
    "        kmeans.fit(X_prep)\n",
    "\n",
    "        inertia.append(kmeans.inertia_)\n",
    "\n",
    "    plt.figure(figsize=(16,8))\n",
    "    plt.plot(K, inertia, 'bx-')\n",
    "\n",
    "    plt.xlabel('k')\n",
    "    plt.ylabel('inertia')\n",
    "\n",
    "    plt.xticks(np.arange(min(K), max(K)+1, 1.0))\n",
    "    plt.title('Elbow Method showing the optimal k')\n",
    "    \n",
    "check_best_k_value(X_prep)"
   ]
  },
  {
   "cell_type": "code",
   "execution_count": 22,
   "metadata": {},
   "outputs": [],
   "source": [
    "# It seems that k =4 is the elbow"
   ]
  },
  {
   "cell_type": "markdown",
   "metadata": {},
   "source": [
    "## Silouhette"
   ]
  },
  {
   "cell_type": "code",
   "execution_count": 23,
   "metadata": {},
   "outputs": [
    {
     "data": {
      "image/png": "[encoded data removed]",
      "text/plain": [
       "<Figure size 1152x576 with 1 Axes>"
      ]
     },
     "metadata": {
      "needs_background": "light"
     },
     "output_type": "display_data"
    }
   ],
   "source": [
    "def check_silouhette_scores(X_prep):\n",
    "    \n",
    "    K = range(2, 20)\n",
    "    silhouette = []\n",
    "\n",
    "    for k in K:\n",
    "        kmeans = KMeans(n_clusters=k,\n",
    "                        random_state=1234)\n",
    "\n",
    "        kmeans.fit(X_prep)\n",
    "\n",
    "        silhouette.append(silhouette_score(X_prep, kmeans.predict(X_prep)))\n",
    "\n",
    "    plt.figure(figsize=(16,8))\n",
    "    plt.plot(K, silhouette, 'bx-')\n",
    "    plt.xlabel('k')\n",
    "    plt.ylabel('silhouette score')\n",
    "    plt.xticks(np.arange(min(K), max(K)+1, 1.0))\n",
    "    plt.title('Elbow Method showing the optimal k')\n",
    "    \n",
    "check_silouhette_scores(X_prep)"
   ]
  },
  {
   "cell_type": "markdown",
   "metadata": {},
   "source": [
    "The greater the Silouhette, the greater the separation between the clusters, In other words, the clusters will be more defined."
   ]
  },
  {
   "cell_type": "markdown",
   "metadata": {},
   "source": [
    "4 and 6 seems to be the highest scores, 4 is chosen because it coincides with above value of k at elbow "
   ]
  },
  {
   "cell_type": "code",
   "execution_count": 24,
   "metadata": {},
   "outputs": [],
   "source": [
    "n_clusters = 4"
   ]
  },
  {
   "cell_type": "code",
   "execution_count": 25,
   "metadata": {},
   "outputs": [],
   "source": [
    "# assign the clusters \n",
    "def assign_clusters(X_prep, n_clusters):\n",
    "    \n",
    "    kmeans = KMeans(n_clusters, random_state=1234)\n",
    "    \n",
    "    kmeans.fit(X_prep)\n",
    "    \n",
    "    clusters = kmeans.predict(X_prep)\n",
    "    values = pd.Series(clusters).value_counts().sort_index()\n",
    "    \n",
    "    X_df = pd.DataFrame(X)\n",
    "    X_df[\"cluster\"] = clusters\n",
    "    X_df.head()  \n",
    "    \n",
    "    return X_df, kmeans\n",
    "    \n"
   ]
  },
  {
   "cell_type": "code",
   "execution_count": 26,
   "metadata": {},
   "outputs": [],
   "source": [
    "X_df, kmeans = assign_clusters(X_prep, n_clusters)    "
   ]
  },
  {
   "cell_type": "markdown",
   "metadata": {},
   "source": [
    "# Part - Process 'not hot' song (find features and recommend similar song)"
   ]
  },
  {
   "cell_type": "code",
   "execution_count": 27,
   "metadata": {},
   "outputs": [],
   "source": [
    "# get features, get cluster, recommend similar song in cluster\n",
    "\n",
    "def get_features_for_song(song):\n",
    "    song_features = get_features(song)\n",
    "    \n",
    "#     returns df with features only\n",
    "    return pd.DataFrame([song_features])\n",
    "    "
   ]
  },
  {
   "cell_type": "code",
   "execution_count": 28,
   "metadata": {},
   "outputs": [],
   "source": [
    "def predict_cluster(df_song_features, scaler, n_clusters):\n",
    "    song_features_transformed = scaler.transform(df_song_features)\n",
    "    \n",
    "    return kmeans.predict(song_features_transformed)[0]\n",
    "    \n"
   ]
  },
  {
   "cell_type": "code",
   "execution_count": 29,
   "metadata": {},
   "outputs": [],
   "source": [
    "# filter the top songs to only predicted cluster\n",
    "\n",
    "def filter_cluster(X_df, cluster):\n",
    "#     print(X_df[X_df['cluster'] == cluster].shape)\n",
    "    return X_df[X_df['cluster'] == cluster]\n"
   ]
  },
  {
   "cell_type": "code",
   "execution_count": 30,
   "metadata": {},
   "outputs": [],
   "source": [
    "#  return random song from cluster\n",
    "\n",
    "def recommend_random_song_from_cluster(X_df_cluster, df_top_songs):\n",
    "    \n",
    "    random_song_index = randrange(len(X_df_cluster))\n",
    "    random_song_name = X_df_cluster.iloc[random_song_index,0]\n",
    "    \n",
    "    random_song_artist = df_top_songs.loc[df_top_songs['song_title'] == random_song_name].iloc[0,1]\n",
    "\n",
    "    return random_song_name, random_song_artist\n"
   ]
  },
  {
   "cell_type": "code",
   "execution_count": 31,
   "metadata": {},
   "outputs": [],
   "source": [
    "# put everything together\n",
    "\n",
    "# take example \n",
    "# user_input = 'Mirrors'\n",
    "\n",
    "def check_if_hot_song(user_input, df_top_songs):\n",
    "    \n",
    "    if user_input in df_top_songs['song_title'].values:\n",
    "        random_top_song, random_top_song_artist = recommend_another_top_song(df_top_songs, user_input)\n",
    "        \n",
    "        print(f\"Let me recommend another hot song: {random_top_song} by {random_top_song_artist}\", )\n",
    "        \n",
    "    else:\n",
    "        print('Let me find audio features of this song and recommend a similar top song:')\n",
    "        \n",
    "        df_song_features = get_features_for_song(user_input)\n",
    "        \n",
    "        cluster = predict_cluster(df_song_features, scaler, n_clusters)\n",
    "\n",
    "        X_df_cluster = filter_cluster(X_df, cluster)\n",
    "        \n",
    "        random_song_name,random_song_artist = recommend_random_song_from_cluster(X_df_cluster, df_top_songs)\n",
    "        \n",
    "        print(f\"{random_song_name} by {random_song_artist}\") \n",
    "        \n",
    "     "
   ]
  },
  {
   "cell_type": "code",
   "execution_count": 32,
   "metadata": {},
   "outputs": [],
   "source": [
    "def init():\n",
    "    user_input = get_user_input()  \n",
    "#     print(f\"Song you entered: {user_input} \" )\n",
    "\n",
    "    check_if_hot_song(user_input, df_top_songs)\n",
    "\n",
    "\n"
   ]
  },
  {
   "cell_type": "code",
   "execution_count": 34,
   "metadata": {},
   "outputs": [
    {
     "name": "stdin",
     "output_type": "stream",
     "text": [
      "Enter song name mirror\n"
     ]
    },
    {
     "name": "stdout",
     "output_type": "stream",
     "text": [
      "Song you entered: mirror \n",
      "Let me find audio features of this song and recommend a similar top song:\n",
      "heather by conan gray\n"
     ]
    }
   ],
   "source": [
    "init()"
   ]
  },
  {
   "cell_type": "code",
   "execution_count": null,
   "metadata": {},
   "outputs": [],
   "source": []
  }
 ],
 "metadata": {
  "kernelspec": {
   "display_name": "Python 3",
   "language": "python",
   "name": "python3"
  },
  "language_info": {
   "codemirror_mode": {
    "name": "ipython",
    "version": 3
   },
   "file_extension": ".py",
   "mimetype": "text/x-python",
   "name": "python",
   "nbconvert_exporter": "python",
   "pygments_lexer": "ipython3",
   "version": "3.7.6"
  }
 },
 "nbformat": 4,
 "nbformat_minor": 4
}
